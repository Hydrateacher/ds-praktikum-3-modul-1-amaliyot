{
 "cells": [
  {
   "cell_type": "code",
   "execution_count": 1,
   "id": "973672a8",
   "metadata": {
    "_cell_guid": "b1076dfc-b9ad-4769-8c92-a6c4dae69d19",
    "_uuid": "8f2839f25d086af736a60e9eeb907d3b93b6e0e5",
    "execution": {
     "iopub.execute_input": "2023-08-04T10:43:19.680633Z",
     "iopub.status.busy": "2023-08-04T10:43:19.679878Z",
     "iopub.status.idle": "2023-08-04T10:43:19.693999Z",
     "shell.execute_reply": "2023-08-04T10:43:19.694769Z",
     "shell.execute_reply.started": "2023-08-04T10:10:07.778430Z"
    },
    "papermill": {
     "duration": 0.065658,
     "end_time": "2023-08-04T10:43:19.695113",
     "exception": false,
     "start_time": "2023-08-04T10:43:19.629455",
     "status": "completed"
    },
    "tags": []
   },
   "outputs": [
    {
     "name": "stdout",
     "output_type": "stream",
     "text": [
      "/kaggle/input/melbourne-housing-snapshot/melb_data.csv\n"
     ]
    }
   ],
   "source": [
    "# This Python 3 environment comes with many helpful analytics libraries installed\n",
    "# It is defined by the kaggle/python Docker image: https://github.com/kaggle/docker-python\n",
    "# For example, here's several helpful packages to load\n",
    "\n",
    "import numpy as np # linear algebra\n",
    "import pandas as pd # data processing, CSV file I/O (e.g. pd.read_csv)\n",
    "\n",
    "# Input data files are available in the read-only \"../input/\" directory\n",
    "# For example, running this (by clicking run or pressing Shift+Enter) will list all files under the input directory\n",
    "\n",
    "import os\n",
    "for dirname, _, filenames in os.walk('/kaggle/input'):\n",
    "    for filename in filenames:\n",
    "        print(os.path.join(dirname, filename))\n",
    "\n",
    "# You can write up to 20GB to the current directory (/kaggle/working/) that gets preserved as output when you create a version using \"Save & Run All\" \n",
    "# You can also write temporary files to /kaggle/temp/, but they won't be saved outside of the current session"
   ]
  },
  {
   "cell_type": "markdown",
   "id": "75f19212",
   "metadata": {
    "papermill": {
     "duration": 0.035286,
     "end_time": "2023-08-04T10:43:19.767375",
     "exception": false,
     "start_time": "2023-08-04T10:43:19.732089",
     "status": "completed"
    },
    "tags": []
   },
   "source": [
    "## Avvalgi amaliyotda `GitHub`ga yuklangan `melb_data.csv` faylni `df` ga chaqirib oling"
   ]
  },
  {
   "cell_type": "code",
   "execution_count": 2,
   "id": "18112d11",
   "metadata": {
    "execution": {
     "iopub.execute_input": "2023-08-04T10:43:19.841865Z",
     "iopub.status.busy": "2023-08-04T10:43:19.840790Z",
     "iopub.status.idle": "2023-08-04T10:43:22.562842Z",
     "shell.execute_reply": "2023-08-04T10:43:22.561928Z",
     "shell.execute_reply.started": "2023-08-04T10:17:34.564757Z"
    },
    "papermill": {
     "duration": 2.760554,
     "end_time": "2023-08-04T10:43:22.563023",
     "exception": false,
     "start_time": "2023-08-04T10:43:19.802469",
     "status": "completed"
    },
    "tags": []
   },
   "outputs": [
    {
     "name": "stdout",
     "output_type": "stream",
     "text": [
      "Cloning into 'ds-praktikum-3-modul-1-amaliyot'...\r\n",
      "remote: Enumerating objects: 7, done.\u001b[K\r\n",
      "remote: Counting objects: 100% (7/7), done.\u001b[K\r\n",
      "remote: Compressing objects: 100% (6/6), done.\u001b[K\r\n",
      "remote: Total 7 (delta 0), reused 0 (delta 0), pack-reused 0\u001b[K\r\n",
      "Unpacking objects: 100% (7/7), done.\r\n"
     ]
    }
   ],
   "source": [
    "#Javobingizni shu yerga yozing\n",
    "!git clone https://github.com/Hydrateacher/ds-praktikum-3-modul-1-amaliyot.git"
   ]
  },
  {
   "cell_type": "code",
   "execution_count": 3,
   "id": "b84bbf09",
   "metadata": {
    "_kg_hide-input": true,
    "execution": {
     "iopub.execute_input": "2023-08-04T10:43:22.646170Z",
     "iopub.status.busy": "2023-08-04T10:43:22.645228Z",
     "iopub.status.idle": "2023-08-04T10:43:22.790944Z",
     "shell.execute_reply": "2023-08-04T10:43:22.790115Z",
     "shell.execute_reply.started": "2023-08-04T10:18:43.243142Z"
    },
    "papermill": {
     "duration": 0.190509,
     "end_time": "2023-08-04T10:43:22.791113",
     "exception": false,
     "start_time": "2023-08-04T10:43:22.600604",
     "status": "completed"
    },
    "tags": []
   },
   "outputs": [
    {
     "data": {
      "text/html": [
       "<div>\n",
       "<style scoped>\n",
       "    .dataframe tbody tr th:only-of-type {\n",
       "        vertical-align: middle;\n",
       "    }\n",
       "\n",
       "    .dataframe tbody tr th {\n",
       "        vertical-align: top;\n",
       "    }\n",
       "\n",
       "    .dataframe thead th {\n",
       "        text-align: right;\n",
       "    }\n",
       "</style>\n",
       "<table border=\"1\" class=\"dataframe\">\n",
       "  <thead>\n",
       "    <tr style=\"text-align: right;\">\n",
       "      <th></th>\n",
       "      <th>Suburb</th>\n",
       "      <th>Address</th>\n",
       "      <th>Rooms</th>\n",
       "      <th>Type</th>\n",
       "      <th>Price</th>\n",
       "      <th>Method</th>\n",
       "      <th>SellerG</th>\n",
       "      <th>Date</th>\n",
       "      <th>Distance</th>\n",
       "      <th>Postcode</th>\n",
       "      <th>...</th>\n",
       "      <th>Bathroom</th>\n",
       "      <th>Car</th>\n",
       "      <th>Landsize</th>\n",
       "      <th>BuildingArea</th>\n",
       "      <th>YearBuilt</th>\n",
       "      <th>CouncilArea</th>\n",
       "      <th>Lattitude</th>\n",
       "      <th>Longtitude</th>\n",
       "      <th>Regionname</th>\n",
       "      <th>Propertycount</th>\n",
       "    </tr>\n",
       "  </thead>\n",
       "  <tbody>\n",
       "    <tr>\n",
       "      <th>0</th>\n",
       "      <td>Abbotsford</td>\n",
       "      <td>85 Turner St</td>\n",
       "      <td>2</td>\n",
       "      <td>h</td>\n",
       "      <td>1480000.0</td>\n",
       "      <td>S</td>\n",
       "      <td>Biggin</td>\n",
       "      <td>3/12/2016</td>\n",
       "      <td>2.5</td>\n",
       "      <td>3067.0</td>\n",
       "      <td>...</td>\n",
       "      <td>1.0</td>\n",
       "      <td>1.0</td>\n",
       "      <td>202.0</td>\n",
       "      <td>NaN</td>\n",
       "      <td>NaN</td>\n",
       "      <td>Yarra</td>\n",
       "      <td>-37.7996</td>\n",
       "      <td>144.9984</td>\n",
       "      <td>Northern Metropolitan</td>\n",
       "      <td>4019.0</td>\n",
       "    </tr>\n",
       "    <tr>\n",
       "      <th>1</th>\n",
       "      <td>Abbotsford</td>\n",
       "      <td>25 Bloomburg St</td>\n",
       "      <td>2</td>\n",
       "      <td>h</td>\n",
       "      <td>1035000.0</td>\n",
       "      <td>S</td>\n",
       "      <td>Biggin</td>\n",
       "      <td>4/02/2016</td>\n",
       "      <td>2.5</td>\n",
       "      <td>3067.0</td>\n",
       "      <td>...</td>\n",
       "      <td>1.0</td>\n",
       "      <td>0.0</td>\n",
       "      <td>156.0</td>\n",
       "      <td>79.0</td>\n",
       "      <td>1900.0</td>\n",
       "      <td>Yarra</td>\n",
       "      <td>-37.8079</td>\n",
       "      <td>144.9934</td>\n",
       "      <td>Northern Metropolitan</td>\n",
       "      <td>4019.0</td>\n",
       "    </tr>\n",
       "    <tr>\n",
       "      <th>2</th>\n",
       "      <td>Abbotsford</td>\n",
       "      <td>5 Charles St</td>\n",
       "      <td>3</td>\n",
       "      <td>h</td>\n",
       "      <td>1465000.0</td>\n",
       "      <td>SP</td>\n",
       "      <td>Biggin</td>\n",
       "      <td>4/03/2017</td>\n",
       "      <td>2.5</td>\n",
       "      <td>3067.0</td>\n",
       "      <td>...</td>\n",
       "      <td>2.0</td>\n",
       "      <td>0.0</td>\n",
       "      <td>134.0</td>\n",
       "      <td>150.0</td>\n",
       "      <td>1900.0</td>\n",
       "      <td>Yarra</td>\n",
       "      <td>-37.8093</td>\n",
       "      <td>144.9944</td>\n",
       "      <td>Northern Metropolitan</td>\n",
       "      <td>4019.0</td>\n",
       "    </tr>\n",
       "    <tr>\n",
       "      <th>3</th>\n",
       "      <td>Abbotsford</td>\n",
       "      <td>40 Federation La</td>\n",
       "      <td>3</td>\n",
       "      <td>h</td>\n",
       "      <td>850000.0</td>\n",
       "      <td>PI</td>\n",
       "      <td>Biggin</td>\n",
       "      <td>4/03/2017</td>\n",
       "      <td>2.5</td>\n",
       "      <td>3067.0</td>\n",
       "      <td>...</td>\n",
       "      <td>2.0</td>\n",
       "      <td>1.0</td>\n",
       "      <td>94.0</td>\n",
       "      <td>NaN</td>\n",
       "      <td>NaN</td>\n",
       "      <td>Yarra</td>\n",
       "      <td>-37.7969</td>\n",
       "      <td>144.9969</td>\n",
       "      <td>Northern Metropolitan</td>\n",
       "      <td>4019.0</td>\n",
       "    </tr>\n",
       "    <tr>\n",
       "      <th>4</th>\n",
       "      <td>Abbotsford</td>\n",
       "      <td>55a Park St</td>\n",
       "      <td>4</td>\n",
       "      <td>h</td>\n",
       "      <td>1600000.0</td>\n",
       "      <td>VB</td>\n",
       "      <td>Nelson</td>\n",
       "      <td>4/06/2016</td>\n",
       "      <td>2.5</td>\n",
       "      <td>3067.0</td>\n",
       "      <td>...</td>\n",
       "      <td>1.0</td>\n",
       "      <td>2.0</td>\n",
       "      <td>120.0</td>\n",
       "      <td>142.0</td>\n",
       "      <td>2014.0</td>\n",
       "      <td>Yarra</td>\n",
       "      <td>-37.8072</td>\n",
       "      <td>144.9941</td>\n",
       "      <td>Northern Metropolitan</td>\n",
       "      <td>4019.0</td>\n",
       "    </tr>\n",
       "  </tbody>\n",
       "</table>\n",
       "<p>5 rows × 21 columns</p>\n",
       "</div>"
      ],
      "text/plain": [
       "       Suburb           Address  Rooms Type      Price Method SellerG  \\\n",
       "0  Abbotsford      85 Turner St      2    h  1480000.0      S  Biggin   \n",
       "1  Abbotsford   25 Bloomburg St      2    h  1035000.0      S  Biggin   \n",
       "2  Abbotsford      5 Charles St      3    h  1465000.0     SP  Biggin   \n",
       "3  Abbotsford  40 Federation La      3    h   850000.0     PI  Biggin   \n",
       "4  Abbotsford       55a Park St      4    h  1600000.0     VB  Nelson   \n",
       "\n",
       "        Date  Distance  Postcode  ...  Bathroom  Car  Landsize  BuildingArea  \\\n",
       "0  3/12/2016       2.5    3067.0  ...       1.0  1.0     202.0           NaN   \n",
       "1  4/02/2016       2.5    3067.0  ...       1.0  0.0     156.0          79.0   \n",
       "2  4/03/2017       2.5    3067.0  ...       2.0  0.0     134.0         150.0   \n",
       "3  4/03/2017       2.5    3067.0  ...       2.0  1.0      94.0           NaN   \n",
       "4  4/06/2016       2.5    3067.0  ...       1.0  2.0     120.0         142.0   \n",
       "\n",
       "   YearBuilt  CouncilArea Lattitude  Longtitude             Regionname  \\\n",
       "0        NaN        Yarra  -37.7996    144.9984  Northern Metropolitan   \n",
       "1     1900.0        Yarra  -37.8079    144.9934  Northern Metropolitan   \n",
       "2     1900.0        Yarra  -37.8093    144.9944  Northern Metropolitan   \n",
       "3        NaN        Yarra  -37.7969    144.9969  Northern Metropolitan   \n",
       "4     2014.0        Yarra  -37.8072    144.9941  Northern Metropolitan   \n",
       "\n",
       "  Propertycount  \n",
       "0        4019.0  \n",
       "1        4019.0  \n",
       "2        4019.0  \n",
       "3        4019.0  \n",
       "4        4019.0  \n",
       "\n",
       "[5 rows x 21 columns]"
      ]
     },
     "execution_count": 3,
     "metadata": {},
     "output_type": "execute_result"
    }
   ],
   "source": [
    "# Mening javobim\n",
    "df = pd.read_csv(\"/kaggle/input/melbourne-housing-snapshot/melb_data.csv\")\n",
    "df.head()"
   ]
  },
  {
   "cell_type": "markdown",
   "id": "6fa336cf",
   "metadata": {
    "papermill": {
     "duration": 0.037786,
     "end_time": "2023-08-04T10:43:22.867065",
     "exception": false,
     "start_time": "2023-08-04T10:43:22.829279",
     "status": "completed"
    },
    "tags": []
   },
   "source": [
    "Yuqoridagi Dataframe Melburn shahri uchun sotuvdagi uylar haqida m'lumotlarni jamlagan.\n",
    "\n",
    "Quyida jadvalning ba'zi sutunlari tarjimasi berilgan (qolganini o'zingiz Google yordamida tarjima qilishingiz mumkin):\n",
    "- `Room` - xonalar soni\n",
    "- `Type` - uyning turi (h - villa/kottej/hovli; u - kvartira; t - shahardagi hovli)\n",
    "- `Price` - narx\n",
    "- `Bathroom` - tualet-vanna\n",
    "- `Landsize` - yerning maydoni (hovli uchun)\n",
    "- `BuildingArea` - Bino qurilgan yerning maydoni\n",
    "- `YearBuilt` - qurilgan yili\n",
    "- `Lattitude` va `Longitude` - GPS kordinatalar\n",
    "- `Regionname` - Region"
   ]
  },
  {
   "cell_type": "markdown",
   "id": "f9ae412c",
   "metadata": {
    "papermill": {
     "duration": 0.038102,
     "end_time": "2023-08-04T10:43:22.944114",
     "exception": false,
     "start_time": "2023-08-04T10:43:22.906012",
     "status": "completed"
    },
    "tags": []
   },
   "source": [
    "# 🔺 DIQQAT! \n",
    "#### **Agar alohida aytilmagan bo'lsa, `df`ga kiritilgan o'zgartirishlarni saqlamang (`inplace=False`)**"
   ]
  },
  {
   "cell_type": "markdown",
   "id": "c1c748b8",
   "metadata": {
    "papermill": {
     "duration": 0.039119,
     "end_time": "2023-08-04T10:43:23.021252",
     "exception": false,
     "start_time": "2023-08-04T10:43:22.982133",
     "status": "completed"
    },
    "tags": []
   },
   "source": [
    "## 1-VAZIFA. `df` dagi barcha ustunlardagi`NaN` qiymatlar sonini chiqaring"
   ]
  },
  {
   "cell_type": "code",
   "execution_count": 4,
   "id": "0d3f4ac2",
   "metadata": {
    "execution": {
     "iopub.execute_input": "2023-08-04T10:43:23.117446Z",
     "iopub.status.busy": "2023-08-04T10:43:23.116356Z",
     "iopub.status.idle": "2023-08-04T10:43:23.122716Z",
     "shell.execute_reply": "2023-08-04T10:43:23.121989Z",
     "shell.execute_reply.started": "2023-08-04T10:20:27.351866Z"
    },
    "papermill": {
     "duration": 0.06297,
     "end_time": "2023-08-04T10:43:23.122879",
     "exception": false,
     "start_time": "2023-08-04T10:43:23.059909",
     "status": "completed"
    },
    "tags": []
   },
   "outputs": [
    {
     "data": {
      "text/plain": [
       "13256"
      ]
     },
     "execution_count": 4,
     "metadata": {},
     "output_type": "execute_result"
    }
   ],
   "source": [
    "#Javobingizni shu yerga yozing\n",
    "sum(df.isna().sum())"
   ]
  },
  {
   "cell_type": "markdown",
   "id": "cbc8e2aa",
   "metadata": {
    "papermill": {
     "duration": 0.03761,
     "end_time": "2023-08-04T10:43:23.199454",
     "exception": false,
     "start_time": "2023-08-04T10:43:23.161844",
     "status": "completed"
    },
    "tags": []
   },
   "source": [
    "## 2-VAZIFA. `df` barcha `NaN` qiymatlarni 0 bilan almashtiring"
   ]
  },
  {
   "cell_type": "code",
   "execution_count": 5,
   "id": "1d6565cb",
   "metadata": {
    "execution": {
     "iopub.execute_input": "2023-08-04T10:43:23.283840Z",
     "iopub.status.busy": "2023-08-04T10:43:23.283014Z",
     "iopub.status.idle": "2023-08-04T10:43:23.355604Z",
     "shell.execute_reply": "2023-08-04T10:43:23.354888Z",
     "shell.execute_reply.started": "2023-08-04T10:20:51.903369Z"
    },
    "papermill": {
     "duration": 0.117855,
     "end_time": "2023-08-04T10:43:23.355770",
     "exception": false,
     "start_time": "2023-08-04T10:43:23.237915",
     "status": "completed"
    },
    "tags": []
   },
   "outputs": [
    {
     "data": {
      "text/html": [
       "<div>\n",
       "<style scoped>\n",
       "    .dataframe tbody tr th:only-of-type {\n",
       "        vertical-align: middle;\n",
       "    }\n",
       "\n",
       "    .dataframe tbody tr th {\n",
       "        vertical-align: top;\n",
       "    }\n",
       "\n",
       "    .dataframe thead th {\n",
       "        text-align: right;\n",
       "    }\n",
       "</style>\n",
       "<table border=\"1\" class=\"dataframe\">\n",
       "  <thead>\n",
       "    <tr style=\"text-align: right;\">\n",
       "      <th></th>\n",
       "      <th>Suburb</th>\n",
       "      <th>Address</th>\n",
       "      <th>Rooms</th>\n",
       "      <th>Type</th>\n",
       "      <th>Price</th>\n",
       "      <th>Method</th>\n",
       "      <th>SellerG</th>\n",
       "      <th>Date</th>\n",
       "      <th>Distance</th>\n",
       "      <th>Postcode</th>\n",
       "      <th>...</th>\n",
       "      <th>Bathroom</th>\n",
       "      <th>Car</th>\n",
       "      <th>Landsize</th>\n",
       "      <th>BuildingArea</th>\n",
       "      <th>YearBuilt</th>\n",
       "      <th>CouncilArea</th>\n",
       "      <th>Lattitude</th>\n",
       "      <th>Longtitude</th>\n",
       "      <th>Regionname</th>\n",
       "      <th>Propertycount</th>\n",
       "    </tr>\n",
       "  </thead>\n",
       "  <tbody>\n",
       "    <tr>\n",
       "      <th>0</th>\n",
       "      <td>Abbotsford</td>\n",
       "      <td>85 Turner St</td>\n",
       "      <td>2</td>\n",
       "      <td>h</td>\n",
       "      <td>1480000.0</td>\n",
       "      <td>S</td>\n",
       "      <td>Biggin</td>\n",
       "      <td>3/12/2016</td>\n",
       "      <td>2.5</td>\n",
       "      <td>3067.0</td>\n",
       "      <td>...</td>\n",
       "      <td>1.0</td>\n",
       "      <td>1.0</td>\n",
       "      <td>202.0</td>\n",
       "      <td>0.0</td>\n",
       "      <td>0.0</td>\n",
       "      <td>Yarra</td>\n",
       "      <td>-37.79960</td>\n",
       "      <td>144.99840</td>\n",
       "      <td>Northern Metropolitan</td>\n",
       "      <td>4019.0</td>\n",
       "    </tr>\n",
       "    <tr>\n",
       "      <th>1</th>\n",
       "      <td>Abbotsford</td>\n",
       "      <td>25 Bloomburg St</td>\n",
       "      <td>2</td>\n",
       "      <td>h</td>\n",
       "      <td>1035000.0</td>\n",
       "      <td>S</td>\n",
       "      <td>Biggin</td>\n",
       "      <td>4/02/2016</td>\n",
       "      <td>2.5</td>\n",
       "      <td>3067.0</td>\n",
       "      <td>...</td>\n",
       "      <td>1.0</td>\n",
       "      <td>0.0</td>\n",
       "      <td>156.0</td>\n",
       "      <td>79.0</td>\n",
       "      <td>1900.0</td>\n",
       "      <td>Yarra</td>\n",
       "      <td>-37.80790</td>\n",
       "      <td>144.99340</td>\n",
       "      <td>Northern Metropolitan</td>\n",
       "      <td>4019.0</td>\n",
       "    </tr>\n",
       "    <tr>\n",
       "      <th>2</th>\n",
       "      <td>Abbotsford</td>\n",
       "      <td>5 Charles St</td>\n",
       "      <td>3</td>\n",
       "      <td>h</td>\n",
       "      <td>1465000.0</td>\n",
       "      <td>SP</td>\n",
       "      <td>Biggin</td>\n",
       "      <td>4/03/2017</td>\n",
       "      <td>2.5</td>\n",
       "      <td>3067.0</td>\n",
       "      <td>...</td>\n",
       "      <td>2.0</td>\n",
       "      <td>0.0</td>\n",
       "      <td>134.0</td>\n",
       "      <td>150.0</td>\n",
       "      <td>1900.0</td>\n",
       "      <td>Yarra</td>\n",
       "      <td>-37.80930</td>\n",
       "      <td>144.99440</td>\n",
       "      <td>Northern Metropolitan</td>\n",
       "      <td>4019.0</td>\n",
       "    </tr>\n",
       "    <tr>\n",
       "      <th>3</th>\n",
       "      <td>Abbotsford</td>\n",
       "      <td>40 Federation La</td>\n",
       "      <td>3</td>\n",
       "      <td>h</td>\n",
       "      <td>850000.0</td>\n",
       "      <td>PI</td>\n",
       "      <td>Biggin</td>\n",
       "      <td>4/03/2017</td>\n",
       "      <td>2.5</td>\n",
       "      <td>3067.0</td>\n",
       "      <td>...</td>\n",
       "      <td>2.0</td>\n",
       "      <td>1.0</td>\n",
       "      <td>94.0</td>\n",
       "      <td>0.0</td>\n",
       "      <td>0.0</td>\n",
       "      <td>Yarra</td>\n",
       "      <td>-37.79690</td>\n",
       "      <td>144.99690</td>\n",
       "      <td>Northern Metropolitan</td>\n",
       "      <td>4019.0</td>\n",
       "    </tr>\n",
       "    <tr>\n",
       "      <th>4</th>\n",
       "      <td>Abbotsford</td>\n",
       "      <td>55a Park St</td>\n",
       "      <td>4</td>\n",
       "      <td>h</td>\n",
       "      <td>1600000.0</td>\n",
       "      <td>VB</td>\n",
       "      <td>Nelson</td>\n",
       "      <td>4/06/2016</td>\n",
       "      <td>2.5</td>\n",
       "      <td>3067.0</td>\n",
       "      <td>...</td>\n",
       "      <td>1.0</td>\n",
       "      <td>2.0</td>\n",
       "      <td>120.0</td>\n",
       "      <td>142.0</td>\n",
       "      <td>2014.0</td>\n",
       "      <td>Yarra</td>\n",
       "      <td>-37.80720</td>\n",
       "      <td>144.99410</td>\n",
       "      <td>Northern Metropolitan</td>\n",
       "      <td>4019.0</td>\n",
       "    </tr>\n",
       "    <tr>\n",
       "      <th>...</th>\n",
       "      <td>...</td>\n",
       "      <td>...</td>\n",
       "      <td>...</td>\n",
       "      <td>...</td>\n",
       "      <td>...</td>\n",
       "      <td>...</td>\n",
       "      <td>...</td>\n",
       "      <td>...</td>\n",
       "      <td>...</td>\n",
       "      <td>...</td>\n",
       "      <td>...</td>\n",
       "      <td>...</td>\n",
       "      <td>...</td>\n",
       "      <td>...</td>\n",
       "      <td>...</td>\n",
       "      <td>...</td>\n",
       "      <td>...</td>\n",
       "      <td>...</td>\n",
       "      <td>...</td>\n",
       "      <td>...</td>\n",
       "      <td>...</td>\n",
       "    </tr>\n",
       "    <tr>\n",
       "      <th>13575</th>\n",
       "      <td>Wheelers Hill</td>\n",
       "      <td>12 Strada Cr</td>\n",
       "      <td>4</td>\n",
       "      <td>h</td>\n",
       "      <td>1245000.0</td>\n",
       "      <td>S</td>\n",
       "      <td>Barry</td>\n",
       "      <td>26/08/2017</td>\n",
       "      <td>16.7</td>\n",
       "      <td>3150.0</td>\n",
       "      <td>...</td>\n",
       "      <td>2.0</td>\n",
       "      <td>2.0</td>\n",
       "      <td>652.0</td>\n",
       "      <td>0.0</td>\n",
       "      <td>1981.0</td>\n",
       "      <td>0</td>\n",
       "      <td>-37.90562</td>\n",
       "      <td>145.16761</td>\n",
       "      <td>South-Eastern Metropolitan</td>\n",
       "      <td>7392.0</td>\n",
       "    </tr>\n",
       "    <tr>\n",
       "      <th>13576</th>\n",
       "      <td>Williamstown</td>\n",
       "      <td>77 Merrett Dr</td>\n",
       "      <td>3</td>\n",
       "      <td>h</td>\n",
       "      <td>1031000.0</td>\n",
       "      <td>SP</td>\n",
       "      <td>Williams</td>\n",
       "      <td>26/08/2017</td>\n",
       "      <td>6.8</td>\n",
       "      <td>3016.0</td>\n",
       "      <td>...</td>\n",
       "      <td>2.0</td>\n",
       "      <td>2.0</td>\n",
       "      <td>333.0</td>\n",
       "      <td>133.0</td>\n",
       "      <td>1995.0</td>\n",
       "      <td>0</td>\n",
       "      <td>-37.85927</td>\n",
       "      <td>144.87904</td>\n",
       "      <td>Western Metropolitan</td>\n",
       "      <td>6380.0</td>\n",
       "    </tr>\n",
       "    <tr>\n",
       "      <th>13577</th>\n",
       "      <td>Williamstown</td>\n",
       "      <td>83 Power St</td>\n",
       "      <td>3</td>\n",
       "      <td>h</td>\n",
       "      <td>1170000.0</td>\n",
       "      <td>S</td>\n",
       "      <td>Raine</td>\n",
       "      <td>26/08/2017</td>\n",
       "      <td>6.8</td>\n",
       "      <td>3016.0</td>\n",
       "      <td>...</td>\n",
       "      <td>2.0</td>\n",
       "      <td>4.0</td>\n",
       "      <td>436.0</td>\n",
       "      <td>0.0</td>\n",
       "      <td>1997.0</td>\n",
       "      <td>0</td>\n",
       "      <td>-37.85274</td>\n",
       "      <td>144.88738</td>\n",
       "      <td>Western Metropolitan</td>\n",
       "      <td>6380.0</td>\n",
       "    </tr>\n",
       "    <tr>\n",
       "      <th>13578</th>\n",
       "      <td>Williamstown</td>\n",
       "      <td>96 Verdon St</td>\n",
       "      <td>4</td>\n",
       "      <td>h</td>\n",
       "      <td>2500000.0</td>\n",
       "      <td>PI</td>\n",
       "      <td>Sweeney</td>\n",
       "      <td>26/08/2017</td>\n",
       "      <td>6.8</td>\n",
       "      <td>3016.0</td>\n",
       "      <td>...</td>\n",
       "      <td>1.0</td>\n",
       "      <td>5.0</td>\n",
       "      <td>866.0</td>\n",
       "      <td>157.0</td>\n",
       "      <td>1920.0</td>\n",
       "      <td>0</td>\n",
       "      <td>-37.85908</td>\n",
       "      <td>144.89299</td>\n",
       "      <td>Western Metropolitan</td>\n",
       "      <td>6380.0</td>\n",
       "    </tr>\n",
       "    <tr>\n",
       "      <th>13579</th>\n",
       "      <td>Yarraville</td>\n",
       "      <td>6 Agnes St</td>\n",
       "      <td>4</td>\n",
       "      <td>h</td>\n",
       "      <td>1285000.0</td>\n",
       "      <td>SP</td>\n",
       "      <td>Village</td>\n",
       "      <td>26/08/2017</td>\n",
       "      <td>6.3</td>\n",
       "      <td>3013.0</td>\n",
       "      <td>...</td>\n",
       "      <td>1.0</td>\n",
       "      <td>1.0</td>\n",
       "      <td>362.0</td>\n",
       "      <td>112.0</td>\n",
       "      <td>1920.0</td>\n",
       "      <td>0</td>\n",
       "      <td>-37.81188</td>\n",
       "      <td>144.88449</td>\n",
       "      <td>Western Metropolitan</td>\n",
       "      <td>6543.0</td>\n",
       "    </tr>\n",
       "  </tbody>\n",
       "</table>\n",
       "<p>13580 rows × 21 columns</p>\n",
       "</div>"
      ],
      "text/plain": [
       "              Suburb           Address  Rooms Type      Price Method  \\\n",
       "0         Abbotsford      85 Turner St      2    h  1480000.0      S   \n",
       "1         Abbotsford   25 Bloomburg St      2    h  1035000.0      S   \n",
       "2         Abbotsford      5 Charles St      3    h  1465000.0     SP   \n",
       "3         Abbotsford  40 Federation La      3    h   850000.0     PI   \n",
       "4         Abbotsford       55a Park St      4    h  1600000.0     VB   \n",
       "...              ...               ...    ...  ...        ...    ...   \n",
       "13575  Wheelers Hill      12 Strada Cr      4    h  1245000.0      S   \n",
       "13576   Williamstown     77 Merrett Dr      3    h  1031000.0     SP   \n",
       "13577   Williamstown       83 Power St      3    h  1170000.0      S   \n",
       "13578   Williamstown      96 Verdon St      4    h  2500000.0     PI   \n",
       "13579     Yarraville        6 Agnes St      4    h  1285000.0     SP   \n",
       "\n",
       "        SellerG        Date  Distance  Postcode  ...  Bathroom  Car  Landsize  \\\n",
       "0        Biggin   3/12/2016       2.5    3067.0  ...       1.0  1.0     202.0   \n",
       "1        Biggin   4/02/2016       2.5    3067.0  ...       1.0  0.0     156.0   \n",
       "2        Biggin   4/03/2017       2.5    3067.0  ...       2.0  0.0     134.0   \n",
       "3        Biggin   4/03/2017       2.5    3067.0  ...       2.0  1.0      94.0   \n",
       "4        Nelson   4/06/2016       2.5    3067.0  ...       1.0  2.0     120.0   \n",
       "...         ...         ...       ...       ...  ...       ...  ...       ...   \n",
       "13575     Barry  26/08/2017      16.7    3150.0  ...       2.0  2.0     652.0   \n",
       "13576  Williams  26/08/2017       6.8    3016.0  ...       2.0  2.0     333.0   \n",
       "13577     Raine  26/08/2017       6.8    3016.0  ...       2.0  4.0     436.0   \n",
       "13578   Sweeney  26/08/2017       6.8    3016.0  ...       1.0  5.0     866.0   \n",
       "13579   Village  26/08/2017       6.3    3013.0  ...       1.0  1.0     362.0   \n",
       "\n",
       "       BuildingArea  YearBuilt  CouncilArea Lattitude  Longtitude  \\\n",
       "0               0.0        0.0        Yarra -37.79960   144.99840   \n",
       "1              79.0     1900.0        Yarra -37.80790   144.99340   \n",
       "2             150.0     1900.0        Yarra -37.80930   144.99440   \n",
       "3               0.0        0.0        Yarra -37.79690   144.99690   \n",
       "4             142.0     2014.0        Yarra -37.80720   144.99410   \n",
       "...             ...        ...          ...       ...         ...   \n",
       "13575           0.0     1981.0            0 -37.90562   145.16761   \n",
       "13576         133.0     1995.0            0 -37.85927   144.87904   \n",
       "13577           0.0     1997.0            0 -37.85274   144.88738   \n",
       "13578         157.0     1920.0            0 -37.85908   144.89299   \n",
       "13579         112.0     1920.0            0 -37.81188   144.88449   \n",
       "\n",
       "                       Regionname Propertycount  \n",
       "0           Northern Metropolitan        4019.0  \n",
       "1           Northern Metropolitan        4019.0  \n",
       "2           Northern Metropolitan        4019.0  \n",
       "3           Northern Metropolitan        4019.0  \n",
       "4           Northern Metropolitan        4019.0  \n",
       "...                           ...           ...  \n",
       "13575  South-Eastern Metropolitan        7392.0  \n",
       "13576        Western Metropolitan        6380.0  \n",
       "13577        Western Metropolitan        6380.0  \n",
       "13578        Western Metropolitan        6380.0  \n",
       "13579        Western Metropolitan        6543.0  \n",
       "\n",
       "[13580 rows x 21 columns]"
      ]
     },
     "execution_count": 5,
     "metadata": {},
     "output_type": "execute_result"
    }
   ],
   "source": [
    "#Javobingizni shu yerga yozing\n",
    "df.fillna(0)"
   ]
  },
  {
   "cell_type": "markdown",
   "id": "32a246ed",
   "metadata": {
    "papermill": {
     "duration": 0.039355,
     "end_time": "2023-08-04T10:43:23.435472",
     "exception": false,
     "start_time": "2023-08-04T10:43:23.396117",
     "status": "completed"
    },
    "tags": []
   },
   "source": [
    "## 3-VAZIFA. Quyidagi 2 ustun uchun o'rta qiymatlarni hisoblang:\n",
    "- BuildingArea\n",
    "- YearBuilt (**butun son qaytishi kerak**)"
   ]
  },
  {
   "cell_type": "code",
   "execution_count": 6,
   "id": "4ad7fa47",
   "metadata": {
    "execution": {
     "iopub.execute_input": "2023-08-04T10:43:23.520589Z",
     "iopub.status.busy": "2023-08-04T10:43:23.519372Z",
     "iopub.status.idle": "2023-08-04T10:43:23.528080Z",
     "shell.execute_reply": "2023-08-04T10:43:23.528716Z",
     "shell.execute_reply.started": "2023-08-04T10:28:15.559975Z"
    },
    "papermill": {
     "duration": 0.053651,
     "end_time": "2023-08-04T10:43:23.528914",
     "exception": false,
     "start_time": "2023-08-04T10:43:23.475263",
     "status": "completed"
    },
    "tags": []
   },
   "outputs": [
    {
     "name": "stdout",
     "output_type": "stream",
     "text": [
      "151.96764988779805\n",
      "1964\n"
     ]
    }
   ],
   "source": [
    "#Javobingizni shu yerga yozing\n",
    "print(df['BuildingArea'].mean())\n",
    "print(int(df['YearBuilt'].mean()))\n"
   ]
  },
  {
   "cell_type": "markdown",
   "id": "a062de03",
   "metadata": {
    "papermill": {
     "duration": 0.039379,
     "end_time": "2023-08-04T10:43:23.608028",
     "exception": false,
     "start_time": "2023-08-04T10:43:23.568649",
     "status": "completed"
    },
    "tags": []
   },
   "source": [
    "**To'g'ri javob:**"
   ]
  },
  {
   "cell_type": "code",
   "execution_count": null,
   "id": "0ca78c76",
   "metadata": {
    "_kg_hide-input": true,
    "_kg_hide-output": true,
    "execution": {
     "iopub.execute_input": "2021-11-22T11:53:54.59022Z",
     "iopub.status.busy": "2021-11-22T11:53:54.589615Z",
     "iopub.status.idle": "2021-11-22T11:53:54.609213Z",
     "shell.execute_reply": "2021-11-22T11:53:54.608136Z",
     "shell.execute_reply.started": "2021-11-22T11:53:54.590188Z"
    },
    "papermill": {
     "duration": 0.039291,
     "end_time": "2023-08-04T10:43:23.687286",
     "exception": false,
     "start_time": "2023-08-04T10:43:23.647995",
     "status": "completed"
    },
    "tags": []
   },
   "outputs": [],
   "source": []
  },
  {
   "cell_type": "markdown",
   "id": "d97d6161",
   "metadata": {
    "papermill": {
     "duration": 0.039257,
     "end_time": "2023-08-04T10:43:23.766431",
     "exception": false,
     "start_time": "2023-08-04T10:43:23.727174",
     "status": "completed"
    },
    "tags": []
   },
   "source": [
    "## 4-VAZIFA: `BuildingArea` va `YearBuilt` ustunlaridagi `NaN` qiymatlarni shu sutun uchun o'rta qiymatlar bilan almashtiring\n",
    "**DIQQAT!** `YearBuilt` ustuni qiymatlari butun son bo'lishi kerak"
   ]
  },
  {
   "cell_type": "code",
   "execution_count": 7,
   "id": "ff2818e4",
   "metadata": {
    "execution": {
     "iopub.execute_input": "2023-08-04T10:43:23.864167Z",
     "iopub.status.busy": "2023-08-04T10:43:23.862762Z",
     "iopub.status.idle": "2023-08-04T10:43:23.925023Z",
     "shell.execute_reply": "2023-08-04T10:43:23.925698Z",
     "shell.execute_reply.started": "2023-08-04T10:29:09.227208Z"
    },
    "papermill": {
     "duration": 0.11607,
     "end_time": "2023-08-04T10:43:23.925898",
     "exception": false,
     "start_time": "2023-08-04T10:43:23.809828",
     "status": "completed"
    },
    "tags": []
   },
   "outputs": [
    {
     "data": {
      "text/html": [
       "<div>\n",
       "<style scoped>\n",
       "    .dataframe tbody tr th:only-of-type {\n",
       "        vertical-align: middle;\n",
       "    }\n",
       "\n",
       "    .dataframe tbody tr th {\n",
       "        vertical-align: top;\n",
       "    }\n",
       "\n",
       "    .dataframe thead th {\n",
       "        text-align: right;\n",
       "    }\n",
       "</style>\n",
       "<table border=\"1\" class=\"dataframe\">\n",
       "  <thead>\n",
       "    <tr style=\"text-align: right;\">\n",
       "      <th></th>\n",
       "      <th>Suburb</th>\n",
       "      <th>Address</th>\n",
       "      <th>Rooms</th>\n",
       "      <th>Type</th>\n",
       "      <th>Price</th>\n",
       "      <th>Method</th>\n",
       "      <th>SellerG</th>\n",
       "      <th>Date</th>\n",
       "      <th>Distance</th>\n",
       "      <th>Postcode</th>\n",
       "      <th>...</th>\n",
       "      <th>Bathroom</th>\n",
       "      <th>Car</th>\n",
       "      <th>Landsize</th>\n",
       "      <th>BuildingArea</th>\n",
       "      <th>YearBuilt</th>\n",
       "      <th>CouncilArea</th>\n",
       "      <th>Lattitude</th>\n",
       "      <th>Longtitude</th>\n",
       "      <th>Regionname</th>\n",
       "      <th>Propertycount</th>\n",
       "    </tr>\n",
       "  </thead>\n",
       "  <tbody>\n",
       "    <tr>\n",
       "      <th>0</th>\n",
       "      <td>Abbotsford</td>\n",
       "      <td>85 Turner St</td>\n",
       "      <td>2</td>\n",
       "      <td>h</td>\n",
       "      <td>1480000.0</td>\n",
       "      <td>S</td>\n",
       "      <td>Biggin</td>\n",
       "      <td>3/12/2016</td>\n",
       "      <td>2.5</td>\n",
       "      <td>3067.0</td>\n",
       "      <td>...</td>\n",
       "      <td>1.0</td>\n",
       "      <td>1.0</td>\n",
       "      <td>202.0</td>\n",
       "      <td>151.96765</td>\n",
       "      <td>1964.0</td>\n",
       "      <td>Yarra</td>\n",
       "      <td>-37.79960</td>\n",
       "      <td>144.99840</td>\n",
       "      <td>Northern Metropolitan</td>\n",
       "      <td>4019.0</td>\n",
       "    </tr>\n",
       "    <tr>\n",
       "      <th>1</th>\n",
       "      <td>Abbotsford</td>\n",
       "      <td>25 Bloomburg St</td>\n",
       "      <td>2</td>\n",
       "      <td>h</td>\n",
       "      <td>1035000.0</td>\n",
       "      <td>S</td>\n",
       "      <td>Biggin</td>\n",
       "      <td>4/02/2016</td>\n",
       "      <td>2.5</td>\n",
       "      <td>3067.0</td>\n",
       "      <td>...</td>\n",
       "      <td>1.0</td>\n",
       "      <td>0.0</td>\n",
       "      <td>156.0</td>\n",
       "      <td>79.00000</td>\n",
       "      <td>1900.0</td>\n",
       "      <td>Yarra</td>\n",
       "      <td>-37.80790</td>\n",
       "      <td>144.99340</td>\n",
       "      <td>Northern Metropolitan</td>\n",
       "      <td>4019.0</td>\n",
       "    </tr>\n",
       "    <tr>\n",
       "      <th>2</th>\n",
       "      <td>Abbotsford</td>\n",
       "      <td>5 Charles St</td>\n",
       "      <td>3</td>\n",
       "      <td>h</td>\n",
       "      <td>1465000.0</td>\n",
       "      <td>SP</td>\n",
       "      <td>Biggin</td>\n",
       "      <td>4/03/2017</td>\n",
       "      <td>2.5</td>\n",
       "      <td>3067.0</td>\n",
       "      <td>...</td>\n",
       "      <td>2.0</td>\n",
       "      <td>0.0</td>\n",
       "      <td>134.0</td>\n",
       "      <td>150.00000</td>\n",
       "      <td>1900.0</td>\n",
       "      <td>Yarra</td>\n",
       "      <td>-37.80930</td>\n",
       "      <td>144.99440</td>\n",
       "      <td>Northern Metropolitan</td>\n",
       "      <td>4019.0</td>\n",
       "    </tr>\n",
       "    <tr>\n",
       "      <th>3</th>\n",
       "      <td>Abbotsford</td>\n",
       "      <td>40 Federation La</td>\n",
       "      <td>3</td>\n",
       "      <td>h</td>\n",
       "      <td>850000.0</td>\n",
       "      <td>PI</td>\n",
       "      <td>Biggin</td>\n",
       "      <td>4/03/2017</td>\n",
       "      <td>2.5</td>\n",
       "      <td>3067.0</td>\n",
       "      <td>...</td>\n",
       "      <td>2.0</td>\n",
       "      <td>1.0</td>\n",
       "      <td>94.0</td>\n",
       "      <td>151.96765</td>\n",
       "      <td>1964.0</td>\n",
       "      <td>Yarra</td>\n",
       "      <td>-37.79690</td>\n",
       "      <td>144.99690</td>\n",
       "      <td>Northern Metropolitan</td>\n",
       "      <td>4019.0</td>\n",
       "    </tr>\n",
       "    <tr>\n",
       "      <th>4</th>\n",
       "      <td>Abbotsford</td>\n",
       "      <td>55a Park St</td>\n",
       "      <td>4</td>\n",
       "      <td>h</td>\n",
       "      <td>1600000.0</td>\n",
       "      <td>VB</td>\n",
       "      <td>Nelson</td>\n",
       "      <td>4/06/2016</td>\n",
       "      <td>2.5</td>\n",
       "      <td>3067.0</td>\n",
       "      <td>...</td>\n",
       "      <td>1.0</td>\n",
       "      <td>2.0</td>\n",
       "      <td>120.0</td>\n",
       "      <td>142.00000</td>\n",
       "      <td>2014.0</td>\n",
       "      <td>Yarra</td>\n",
       "      <td>-37.80720</td>\n",
       "      <td>144.99410</td>\n",
       "      <td>Northern Metropolitan</td>\n",
       "      <td>4019.0</td>\n",
       "    </tr>\n",
       "    <tr>\n",
       "      <th>...</th>\n",
       "      <td>...</td>\n",
       "      <td>...</td>\n",
       "      <td>...</td>\n",
       "      <td>...</td>\n",
       "      <td>...</td>\n",
       "      <td>...</td>\n",
       "      <td>...</td>\n",
       "      <td>...</td>\n",
       "      <td>...</td>\n",
       "      <td>...</td>\n",
       "      <td>...</td>\n",
       "      <td>...</td>\n",
       "      <td>...</td>\n",
       "      <td>...</td>\n",
       "      <td>...</td>\n",
       "      <td>...</td>\n",
       "      <td>...</td>\n",
       "      <td>...</td>\n",
       "      <td>...</td>\n",
       "      <td>...</td>\n",
       "      <td>...</td>\n",
       "    </tr>\n",
       "    <tr>\n",
       "      <th>13575</th>\n",
       "      <td>Wheelers Hill</td>\n",
       "      <td>12 Strada Cr</td>\n",
       "      <td>4</td>\n",
       "      <td>h</td>\n",
       "      <td>1245000.0</td>\n",
       "      <td>S</td>\n",
       "      <td>Barry</td>\n",
       "      <td>26/08/2017</td>\n",
       "      <td>16.7</td>\n",
       "      <td>3150.0</td>\n",
       "      <td>...</td>\n",
       "      <td>2.0</td>\n",
       "      <td>2.0</td>\n",
       "      <td>652.0</td>\n",
       "      <td>151.96765</td>\n",
       "      <td>1981.0</td>\n",
       "      <td>NaN</td>\n",
       "      <td>-37.90562</td>\n",
       "      <td>145.16761</td>\n",
       "      <td>South-Eastern Metropolitan</td>\n",
       "      <td>7392.0</td>\n",
       "    </tr>\n",
       "    <tr>\n",
       "      <th>13576</th>\n",
       "      <td>Williamstown</td>\n",
       "      <td>77 Merrett Dr</td>\n",
       "      <td>3</td>\n",
       "      <td>h</td>\n",
       "      <td>1031000.0</td>\n",
       "      <td>SP</td>\n",
       "      <td>Williams</td>\n",
       "      <td>26/08/2017</td>\n",
       "      <td>6.8</td>\n",
       "      <td>3016.0</td>\n",
       "      <td>...</td>\n",
       "      <td>2.0</td>\n",
       "      <td>2.0</td>\n",
       "      <td>333.0</td>\n",
       "      <td>133.00000</td>\n",
       "      <td>1995.0</td>\n",
       "      <td>NaN</td>\n",
       "      <td>-37.85927</td>\n",
       "      <td>144.87904</td>\n",
       "      <td>Western Metropolitan</td>\n",
       "      <td>6380.0</td>\n",
       "    </tr>\n",
       "    <tr>\n",
       "      <th>13577</th>\n",
       "      <td>Williamstown</td>\n",
       "      <td>83 Power St</td>\n",
       "      <td>3</td>\n",
       "      <td>h</td>\n",
       "      <td>1170000.0</td>\n",
       "      <td>S</td>\n",
       "      <td>Raine</td>\n",
       "      <td>26/08/2017</td>\n",
       "      <td>6.8</td>\n",
       "      <td>3016.0</td>\n",
       "      <td>...</td>\n",
       "      <td>2.0</td>\n",
       "      <td>4.0</td>\n",
       "      <td>436.0</td>\n",
       "      <td>151.96765</td>\n",
       "      <td>1997.0</td>\n",
       "      <td>NaN</td>\n",
       "      <td>-37.85274</td>\n",
       "      <td>144.88738</td>\n",
       "      <td>Western Metropolitan</td>\n",
       "      <td>6380.0</td>\n",
       "    </tr>\n",
       "    <tr>\n",
       "      <th>13578</th>\n",
       "      <td>Williamstown</td>\n",
       "      <td>96 Verdon St</td>\n",
       "      <td>4</td>\n",
       "      <td>h</td>\n",
       "      <td>2500000.0</td>\n",
       "      <td>PI</td>\n",
       "      <td>Sweeney</td>\n",
       "      <td>26/08/2017</td>\n",
       "      <td>6.8</td>\n",
       "      <td>3016.0</td>\n",
       "      <td>...</td>\n",
       "      <td>1.0</td>\n",
       "      <td>5.0</td>\n",
       "      <td>866.0</td>\n",
       "      <td>157.00000</td>\n",
       "      <td>1920.0</td>\n",
       "      <td>NaN</td>\n",
       "      <td>-37.85908</td>\n",
       "      <td>144.89299</td>\n",
       "      <td>Western Metropolitan</td>\n",
       "      <td>6380.0</td>\n",
       "    </tr>\n",
       "    <tr>\n",
       "      <th>13579</th>\n",
       "      <td>Yarraville</td>\n",
       "      <td>6 Agnes St</td>\n",
       "      <td>4</td>\n",
       "      <td>h</td>\n",
       "      <td>1285000.0</td>\n",
       "      <td>SP</td>\n",
       "      <td>Village</td>\n",
       "      <td>26/08/2017</td>\n",
       "      <td>6.3</td>\n",
       "      <td>3013.0</td>\n",
       "      <td>...</td>\n",
       "      <td>1.0</td>\n",
       "      <td>1.0</td>\n",
       "      <td>362.0</td>\n",
       "      <td>112.00000</td>\n",
       "      <td>1920.0</td>\n",
       "      <td>NaN</td>\n",
       "      <td>-37.81188</td>\n",
       "      <td>144.88449</td>\n",
       "      <td>Western Metropolitan</td>\n",
       "      <td>6543.0</td>\n",
       "    </tr>\n",
       "  </tbody>\n",
       "</table>\n",
       "<p>13580 rows × 21 columns</p>\n",
       "</div>"
      ],
      "text/plain": [
       "              Suburb           Address  Rooms Type      Price Method  \\\n",
       "0         Abbotsford      85 Turner St      2    h  1480000.0      S   \n",
       "1         Abbotsford   25 Bloomburg St      2    h  1035000.0      S   \n",
       "2         Abbotsford      5 Charles St      3    h  1465000.0     SP   \n",
       "3         Abbotsford  40 Federation La      3    h   850000.0     PI   \n",
       "4         Abbotsford       55a Park St      4    h  1600000.0     VB   \n",
       "...              ...               ...    ...  ...        ...    ...   \n",
       "13575  Wheelers Hill      12 Strada Cr      4    h  1245000.0      S   \n",
       "13576   Williamstown     77 Merrett Dr      3    h  1031000.0     SP   \n",
       "13577   Williamstown       83 Power St      3    h  1170000.0      S   \n",
       "13578   Williamstown      96 Verdon St      4    h  2500000.0     PI   \n",
       "13579     Yarraville        6 Agnes St      4    h  1285000.0     SP   \n",
       "\n",
       "        SellerG        Date  Distance  Postcode  ...  Bathroom  Car  Landsize  \\\n",
       "0        Biggin   3/12/2016       2.5    3067.0  ...       1.0  1.0     202.0   \n",
       "1        Biggin   4/02/2016       2.5    3067.0  ...       1.0  0.0     156.0   \n",
       "2        Biggin   4/03/2017       2.5    3067.0  ...       2.0  0.0     134.0   \n",
       "3        Biggin   4/03/2017       2.5    3067.0  ...       2.0  1.0      94.0   \n",
       "4        Nelson   4/06/2016       2.5    3067.0  ...       1.0  2.0     120.0   \n",
       "...         ...         ...       ...       ...  ...       ...  ...       ...   \n",
       "13575     Barry  26/08/2017      16.7    3150.0  ...       2.0  2.0     652.0   \n",
       "13576  Williams  26/08/2017       6.8    3016.0  ...       2.0  2.0     333.0   \n",
       "13577     Raine  26/08/2017       6.8    3016.0  ...       2.0  4.0     436.0   \n",
       "13578   Sweeney  26/08/2017       6.8    3016.0  ...       1.0  5.0     866.0   \n",
       "13579   Village  26/08/2017       6.3    3013.0  ...       1.0  1.0     362.0   \n",
       "\n",
       "       BuildingArea  YearBuilt  CouncilArea Lattitude  Longtitude  \\\n",
       "0         151.96765     1964.0        Yarra -37.79960   144.99840   \n",
       "1          79.00000     1900.0        Yarra -37.80790   144.99340   \n",
       "2         150.00000     1900.0        Yarra -37.80930   144.99440   \n",
       "3         151.96765     1964.0        Yarra -37.79690   144.99690   \n",
       "4         142.00000     2014.0        Yarra -37.80720   144.99410   \n",
       "...             ...        ...          ...       ...         ...   \n",
       "13575     151.96765     1981.0          NaN -37.90562   145.16761   \n",
       "13576     133.00000     1995.0          NaN -37.85927   144.87904   \n",
       "13577     151.96765     1997.0          NaN -37.85274   144.88738   \n",
       "13578     157.00000     1920.0          NaN -37.85908   144.89299   \n",
       "13579     112.00000     1920.0          NaN -37.81188   144.88449   \n",
       "\n",
       "                       Regionname Propertycount  \n",
       "0           Northern Metropolitan        4019.0  \n",
       "1           Northern Metropolitan        4019.0  \n",
       "2           Northern Metropolitan        4019.0  \n",
       "3           Northern Metropolitan        4019.0  \n",
       "4           Northern Metropolitan        4019.0  \n",
       "...                           ...           ...  \n",
       "13575  South-Eastern Metropolitan        7392.0  \n",
       "13576        Western Metropolitan        6380.0  \n",
       "13577        Western Metropolitan        6380.0  \n",
       "13578        Western Metropolitan        6380.0  \n",
       "13579        Western Metropolitan        6543.0  \n",
       "\n",
       "[13580 rows x 21 columns]"
      ]
     },
     "execution_count": 7,
     "metadata": {},
     "output_type": "execute_result"
    }
   ],
   "source": [
    "#Javobingizni shu yerga yozing\n",
    "df.fillna({'BuildingArea':df['BuildingArea'].mean(), 'YearBuilt':int(df['YearBuilt'].mean())})"
   ]
  },
  {
   "cell_type": "markdown",
   "id": "dc6a6ff1",
   "metadata": {
    "papermill": {
     "duration": 0.049594,
     "end_time": "2023-08-04T10:43:24.020012",
     "exception": false,
     "start_time": "2023-08-04T10:43:23.970418",
     "status": "completed"
    },
    "tags": []
   },
   "source": [
    "**To'g'ri javob:**"
   ]
  },
  {
   "cell_type": "code",
   "execution_count": null,
   "id": "aaf1c609",
   "metadata": {
    "_kg_hide-input": true,
    "execution": {
     "iopub.execute_input": "2021-11-22T11:53:54.62182Z",
     "iopub.status.busy": "2021-11-22T11:53:54.621409Z",
     "iopub.status.idle": "2021-11-22T11:53:54.681194Z",
     "shell.execute_reply": "2021-11-22T11:53:54.680535Z",
     "shell.execute_reply.started": "2021-11-22T11:53:54.621789Z"
    },
    "papermill": {
     "duration": 0.040702,
     "end_time": "2023-08-04T10:43:24.103024",
     "exception": false,
     "start_time": "2023-08-04T10:43:24.062322",
     "status": "completed"
    },
    "tags": []
   },
   "outputs": [],
   "source": []
  },
  {
   "cell_type": "markdown",
   "id": "de45f07a",
   "metadata": {
    "papermill": {
     "duration": 0.044331,
     "end_time": "2023-08-04T10:43:24.192037",
     "exception": false,
     "start_time": "2023-08-04T10:43:24.147706",
     "status": "completed"
    },
    "tags": []
   },
   "source": [
    "## 5-VAZIFA. `.groupby()`\n",
    "Ustun uchun o'rta qiymat har doim ham aniq bo'lavermaydi. Keling avval `YearBuilt` ustuni uchun aniqroq qiymat topishga harakat qilamiz. \n",
    "\n",
    "Buning uchun `Regionname` ustuni qiymatlaridan foydalanishimiz mumkin, ya'ni bir Regiondagi binolar tahminan bir hil yillarda qurilgan deb tahmin qilsak bo'ladi.\n",
    "\n",
    "### 5.1 `.groupby()` yordamida `df` qiymatlarini `Regionname` ustuni bo'yicha guruhlang va `YaerBuilt` ustuni uchun o'rta qiymatni hisoblang."
   ]
  },
  {
   "cell_type": "code",
   "execution_count": 8,
   "id": "2db63425",
   "metadata": {
    "execution": {
     "iopub.execute_input": "2023-08-04T10:43:24.294328Z",
     "iopub.status.busy": "2023-08-04T10:43:24.293338Z",
     "iopub.status.idle": "2023-08-04T10:43:24.302874Z",
     "shell.execute_reply": "2023-08-04T10:43:24.303550Z",
     "shell.execute_reply.started": "2023-08-04T10:29:58.736630Z"
    },
    "papermill": {
     "duration": 0.062442,
     "end_time": "2023-08-04T10:43:24.303756",
     "exception": false,
     "start_time": "2023-08-04T10:43:24.241314",
     "status": "completed"
    },
    "tags": []
   },
   "outputs": [
    {
     "data": {
      "text/plain": [
       "Regionname\n",
       "Eastern Metropolitan          1971\n",
       "Eastern Victoria              1984\n",
       "Northern Metropolitan         1962\n",
       "Northern Victoria             1986\n",
       "South-Eastern Metropolitan    1976\n",
       "Southern Metropolitan         1960\n",
       "Western Metropolitan          1968\n",
       "Western Victoria              1982\n",
       "Name: YearBuilt, dtype: int64"
      ]
     },
     "execution_count": 8,
     "metadata": {},
     "output_type": "execute_result"
    }
   ],
   "source": [
    "#Javobingizni shu yerga yozing\n",
    "df.groupby(['Regionname']).YearBuilt.mean().astype(int)"
   ]
  },
  {
   "cell_type": "markdown",
   "id": "f509f46d",
   "metadata": {
    "papermill": {
     "duration": 0.04118,
     "end_time": "2023-08-04T10:43:24.386557",
     "exception": false,
     "start_time": "2023-08-04T10:43:24.345377",
     "status": "completed"
    },
    "tags": []
   },
   "source": [
    "**To'g'ri javob:**"
   ]
  },
  {
   "cell_type": "code",
   "execution_count": null,
   "id": "b302c155",
   "metadata": {
    "_kg_hide-input": true,
    "_kg_hide-output": true,
    "execution": {
     "iopub.execute_input": "2021-11-22T11:53:54.687648Z",
     "iopub.status.busy": "2021-11-22T11:53:54.687248Z",
     "iopub.status.idle": "2021-11-22T11:53:54.712937Z",
     "shell.execute_reply": "2021-11-22T11:53:54.712141Z",
     "shell.execute_reply.started": "2021-11-22T11:53:54.687618Z"
    },
    "papermill": {
     "duration": 0.0419,
     "end_time": "2023-08-04T10:43:24.470439",
     "exception": false,
     "start_time": "2023-08-04T10:43:24.428539",
     "status": "completed"
    },
    "tags": []
   },
   "outputs": [],
   "source": []
  },
  {
   "cell_type": "markdown",
   "id": "786d4b55",
   "metadata": {
    "papermill": {
     "duration": 0.041522,
     "end_time": "2023-08-04T10:43:24.553671",
     "exception": false,
     "start_time": "2023-08-04T10:43:24.512149",
     "status": "completed"
    },
    "tags": []
   },
   "source": [
    "### 5.2. `df` `YearBuilt` ustunidagi `NaN` qiymatlarni yuqoridagi qiymatlar bilan almashtiring.\n",
    "`df[df.Regionname='Eastern Metropolitan']=...`\n",
    "\n",
    "Har bir `Regionname` uchun qiymatlarni bittalab kiritmaslik uchun for siklidan foydalanishingiz mumkin."
   ]
  },
  {
   "cell_type": "code",
   "execution_count": 9,
   "id": "95bd76f6",
   "metadata": {
    "execution": {
     "iopub.execute_input": "2023-08-04T10:43:24.641021Z",
     "iopub.status.busy": "2023-08-04T10:43:24.639896Z",
     "iopub.status.idle": "2023-08-04T10:43:24.795962Z",
     "shell.execute_reply": "2023-08-04T10:43:24.794847Z",
     "shell.execute_reply.started": "2023-08-04T10:30:52.721165Z"
    },
    "papermill": {
     "duration": 0.200999,
     "end_time": "2023-08-04T10:43:24.796144",
     "exception": false,
     "start_time": "2023-08-04T10:43:24.595145",
     "status": "completed"
    },
    "tags": []
   },
   "outputs": [],
   "source": [
    "#Javobingizni shu yerga yozing\n",
    "groups = df.groupby(['Regionname']).YearBuilt.mean() # Bu Series obyekti\n",
    "for idx in groups.index:\n",
    "   df[df.Regionname==idx] = df[df.Regionname==idx].fillna({'YearBuilt':groups[idx]})"
   ]
  },
  {
   "cell_type": "markdown",
   "id": "77297ec3",
   "metadata": {
    "papermill": {
     "duration": 0.042285,
     "end_time": "2023-08-04T10:43:24.881402",
     "exception": false,
     "start_time": "2023-08-04T10:43:24.839117",
     "status": "completed"
    },
    "tags": []
   },
   "source": [
    "**To'g'ri javob**"
   ]
  },
  {
   "cell_type": "code",
   "execution_count": null,
   "id": "056326b3",
   "metadata": {
    "_kg_hide-input": true,
    "execution": {
     "iopub.execute_input": "2021-11-22T11:53:54.72032Z",
     "iopub.status.busy": "2021-11-22T11:53:54.719756Z",
     "iopub.status.idle": "2021-11-22T11:53:54.85765Z",
     "shell.execute_reply": "2021-11-22T11:53:54.856967Z",
     "shell.execute_reply.started": "2021-11-22T11:53:54.720276Z"
    },
    "papermill": {
     "duration": 0.041868,
     "end_time": "2023-08-04T10:43:24.966111",
     "exception": false,
     "start_time": "2023-08-04T10:43:24.924243",
     "status": "completed"
    },
    "tags": []
   },
   "outputs": [],
   "source": []
  },
  {
   "cell_type": "markdown",
   "id": "c82663fd",
   "metadata": {
    "papermill": {
     "duration": 0.042809,
     "end_time": "2023-08-04T10:43:25.051507",
     "exception": false,
     "start_time": "2023-08-04T10:43:25.008698",
     "status": "completed"
    },
    "tags": []
   },
   "source": [
    "### `YearBuilt` uchun yana ham aniqroq o'rta qiymat hisoblashning qanday yo'lini taklif qilgan bo'lar edingiz?"
   ]
  },
  {
   "cell_type": "markdown",
   "id": "feefd9fc",
   "metadata": {
    "papermill": {
     "duration": 0.0421,
     "end_time": "2023-08-04T10:43:25.135141",
     "exception": false,
     "start_time": "2023-08-04T10:43:25.093041",
     "status": "completed"
    },
    "tags": []
   },
   "source": [
    "## 6-VAZIFA. `BuildingArea` ustunidagi `NaN` qiymatlarni to'ldiramiz\n",
    "`BuildingArea` bino qurilgan yerning maydonini bildiradi. Bu qiymatlarni tahmin qilish uchun qaysi ustun qiymatlaridan foydalanish to'g'ri deb hisoblaysiz?"
   ]
  },
  {
   "cell_type": "code",
   "execution_count": 10,
   "id": "4b6e0828",
   "metadata": {
    "_kg_hide-input": true,
    "execution": {
     "iopub.execute_input": "2023-08-04T10:43:25.258721Z",
     "iopub.status.busy": "2023-08-04T10:43:25.226034Z",
     "iopub.status.idle": "2023-08-04T10:43:25.263310Z",
     "shell.execute_reply": "2023-08-04T10:43:25.262546Z",
     "shell.execute_reply.started": "2023-08-04T10:31:23.359000Z"
    },
    "papermill": {
     "duration": 0.084897,
     "end_time": "2023-08-04T10:43:25.263471",
     "exception": false,
     "start_time": "2023-08-04T10:43:25.178574",
     "status": "completed"
    },
    "tags": []
   },
   "outputs": [
    {
     "data": {
      "text/html": [
       "<div>\n",
       "<style scoped>\n",
       "    .dataframe tbody tr th:only-of-type {\n",
       "        vertical-align: middle;\n",
       "    }\n",
       "\n",
       "    .dataframe tbody tr th {\n",
       "        vertical-align: top;\n",
       "    }\n",
       "\n",
       "    .dataframe thead th {\n",
       "        text-align: right;\n",
       "    }\n",
       "</style>\n",
       "<table border=\"1\" class=\"dataframe\">\n",
       "  <thead>\n",
       "    <tr style=\"text-align: right;\">\n",
       "      <th></th>\n",
       "      <th>Suburb</th>\n",
       "      <th>Address</th>\n",
       "      <th>Rooms</th>\n",
       "      <th>Type</th>\n",
       "      <th>Price</th>\n",
       "      <th>Method</th>\n",
       "      <th>SellerG</th>\n",
       "      <th>Date</th>\n",
       "      <th>Distance</th>\n",
       "      <th>Postcode</th>\n",
       "      <th>...</th>\n",
       "      <th>Bathroom</th>\n",
       "      <th>Car</th>\n",
       "      <th>Landsize</th>\n",
       "      <th>BuildingArea</th>\n",
       "      <th>YearBuilt</th>\n",
       "      <th>CouncilArea</th>\n",
       "      <th>Lattitude</th>\n",
       "      <th>Longtitude</th>\n",
       "      <th>Regionname</th>\n",
       "      <th>Propertycount</th>\n",
       "    </tr>\n",
       "  </thead>\n",
       "  <tbody>\n",
       "    <tr>\n",
       "      <th>0</th>\n",
       "      <td>Abbotsford</td>\n",
       "      <td>85 Turner St</td>\n",
       "      <td>2</td>\n",
       "      <td>h</td>\n",
       "      <td>1480000.0</td>\n",
       "      <td>S</td>\n",
       "      <td>Biggin</td>\n",
       "      <td>3/12/2016</td>\n",
       "      <td>2.5</td>\n",
       "      <td>3067.0</td>\n",
       "      <td>...</td>\n",
       "      <td>1.0</td>\n",
       "      <td>1.0</td>\n",
       "      <td>202.0</td>\n",
       "      <td>NaN</td>\n",
       "      <td>1962.764286</td>\n",
       "      <td>Yarra</td>\n",
       "      <td>-37.7996</td>\n",
       "      <td>144.9984</td>\n",
       "      <td>Northern Metropolitan</td>\n",
       "      <td>4019.0</td>\n",
       "    </tr>\n",
       "    <tr>\n",
       "      <th>1</th>\n",
       "      <td>Abbotsford</td>\n",
       "      <td>25 Bloomburg St</td>\n",
       "      <td>2</td>\n",
       "      <td>h</td>\n",
       "      <td>1035000.0</td>\n",
       "      <td>S</td>\n",
       "      <td>Biggin</td>\n",
       "      <td>4/02/2016</td>\n",
       "      <td>2.5</td>\n",
       "      <td>3067.0</td>\n",
       "      <td>...</td>\n",
       "      <td>1.0</td>\n",
       "      <td>0.0</td>\n",
       "      <td>156.0</td>\n",
       "      <td>79.0</td>\n",
       "      <td>1900.000000</td>\n",
       "      <td>Yarra</td>\n",
       "      <td>-37.8079</td>\n",
       "      <td>144.9934</td>\n",
       "      <td>Northern Metropolitan</td>\n",
       "      <td>4019.0</td>\n",
       "    </tr>\n",
       "    <tr>\n",
       "      <th>2</th>\n",
       "      <td>Abbotsford</td>\n",
       "      <td>5 Charles St</td>\n",
       "      <td>3</td>\n",
       "      <td>h</td>\n",
       "      <td>1465000.0</td>\n",
       "      <td>SP</td>\n",
       "      <td>Biggin</td>\n",
       "      <td>4/03/2017</td>\n",
       "      <td>2.5</td>\n",
       "      <td>3067.0</td>\n",
       "      <td>...</td>\n",
       "      <td>2.0</td>\n",
       "      <td>0.0</td>\n",
       "      <td>134.0</td>\n",
       "      <td>150.0</td>\n",
       "      <td>1900.000000</td>\n",
       "      <td>Yarra</td>\n",
       "      <td>-37.8093</td>\n",
       "      <td>144.9944</td>\n",
       "      <td>Northern Metropolitan</td>\n",
       "      <td>4019.0</td>\n",
       "    </tr>\n",
       "    <tr>\n",
       "      <th>3</th>\n",
       "      <td>Abbotsford</td>\n",
       "      <td>40 Federation La</td>\n",
       "      <td>3</td>\n",
       "      <td>h</td>\n",
       "      <td>850000.0</td>\n",
       "      <td>PI</td>\n",
       "      <td>Biggin</td>\n",
       "      <td>4/03/2017</td>\n",
       "      <td>2.5</td>\n",
       "      <td>3067.0</td>\n",
       "      <td>...</td>\n",
       "      <td>2.0</td>\n",
       "      <td>1.0</td>\n",
       "      <td>94.0</td>\n",
       "      <td>NaN</td>\n",
       "      <td>1962.764286</td>\n",
       "      <td>Yarra</td>\n",
       "      <td>-37.7969</td>\n",
       "      <td>144.9969</td>\n",
       "      <td>Northern Metropolitan</td>\n",
       "      <td>4019.0</td>\n",
       "    </tr>\n",
       "    <tr>\n",
       "      <th>4</th>\n",
       "      <td>Abbotsford</td>\n",
       "      <td>55a Park St</td>\n",
       "      <td>4</td>\n",
       "      <td>h</td>\n",
       "      <td>1600000.0</td>\n",
       "      <td>VB</td>\n",
       "      <td>Nelson</td>\n",
       "      <td>4/06/2016</td>\n",
       "      <td>2.5</td>\n",
       "      <td>3067.0</td>\n",
       "      <td>...</td>\n",
       "      <td>1.0</td>\n",
       "      <td>2.0</td>\n",
       "      <td>120.0</td>\n",
       "      <td>142.0</td>\n",
       "      <td>2014.000000</td>\n",
       "      <td>Yarra</td>\n",
       "      <td>-37.8072</td>\n",
       "      <td>144.9941</td>\n",
       "      <td>Northern Metropolitan</td>\n",
       "      <td>4019.0</td>\n",
       "    </tr>\n",
       "  </tbody>\n",
       "</table>\n",
       "<p>5 rows × 21 columns</p>\n",
       "</div>"
      ],
      "text/plain": [
       "       Suburb           Address  Rooms Type      Price Method SellerG  \\\n",
       "0  Abbotsford      85 Turner St      2    h  1480000.0      S  Biggin   \n",
       "1  Abbotsford   25 Bloomburg St      2    h  1035000.0      S  Biggin   \n",
       "2  Abbotsford      5 Charles St      3    h  1465000.0     SP  Biggin   \n",
       "3  Abbotsford  40 Federation La      3    h   850000.0     PI  Biggin   \n",
       "4  Abbotsford       55a Park St      4    h  1600000.0     VB  Nelson   \n",
       "\n",
       "        Date  Distance  Postcode  ...  Bathroom  Car  Landsize  BuildingArea  \\\n",
       "0  3/12/2016       2.5    3067.0  ...       1.0  1.0     202.0           NaN   \n",
       "1  4/02/2016       2.5    3067.0  ...       1.0  0.0     156.0          79.0   \n",
       "2  4/03/2017       2.5    3067.0  ...       2.0  0.0     134.0         150.0   \n",
       "3  4/03/2017       2.5    3067.0  ...       2.0  1.0      94.0           NaN   \n",
       "4  4/06/2016       2.5    3067.0  ...       1.0  2.0     120.0         142.0   \n",
       "\n",
       "     YearBuilt  CouncilArea Lattitude  Longtitude             Regionname  \\\n",
       "0  1962.764286        Yarra  -37.7996    144.9984  Northern Metropolitan   \n",
       "1  1900.000000        Yarra  -37.8079    144.9934  Northern Metropolitan   \n",
       "2  1900.000000        Yarra  -37.8093    144.9944  Northern Metropolitan   \n",
       "3  1962.764286        Yarra  -37.7969    144.9969  Northern Metropolitan   \n",
       "4  2014.000000        Yarra  -37.8072    144.9941  Northern Metropolitan   \n",
       "\n",
       "  Propertycount  \n",
       "0        4019.0  \n",
       "1        4019.0  \n",
       "2        4019.0  \n",
       "3        4019.0  \n",
       "4        4019.0  \n",
       "\n",
       "[5 rows x 21 columns]"
      ]
     },
     "execution_count": 10,
     "metadata": {},
     "output_type": "execute_result"
    }
   ],
   "source": [
    "df.head()"
   ]
  },
  {
   "cell_type": "code",
   "execution_count": 11,
   "id": "321d5aa2",
   "metadata": {
    "execution": {
     "iopub.execute_input": "2023-08-04T10:43:25.355676Z",
     "iopub.status.busy": "2023-08-04T10:43:25.354590Z",
     "iopub.status.idle": "2023-08-04T10:43:25.362017Z",
     "shell.execute_reply": "2023-08-04T10:43:25.362570Z",
     "shell.execute_reply.started": "2023-08-04T10:33:16.859458Z"
    },
    "papermill": {
     "duration": 0.056409,
     "end_time": "2023-08-04T10:43:25.362773",
     "exception": false,
     "start_time": "2023-08-04T10:43:25.306364",
     "status": "completed"
    },
    "tags": []
   },
   "outputs": [
    {
     "data": {
      "text/plain": [
       "0        151.96765\n",
       "1         79.00000\n",
       "2        150.00000\n",
       "3        151.96765\n",
       "4        142.00000\n",
       "           ...    \n",
       "13575    151.96765\n",
       "13576    133.00000\n",
       "13577    151.96765\n",
       "13578    157.00000\n",
       "13579    112.00000\n",
       "Name: BuildingArea, Length: 13580, dtype: float64"
      ]
     },
     "execution_count": 11,
     "metadata": {},
     "output_type": "execute_result"
    }
   ],
   "source": [
    "df['BuildingArea'].fillna(df.BuildingArea.mean())"
   ]
  },
  {
   "cell_type": "markdown",
   "id": "f358256b",
   "metadata": {
    "papermill": {
     "duration": 0.042229,
     "end_time": "2023-08-04T10:43:25.447691",
     "exception": false,
     "start_time": "2023-08-04T10:43:25.405462",
     "status": "completed"
    },
    "tags": []
   },
   "source": [
    "### 6.1 `df`ni xonalar soni bo'yicha o'rta qiymat olib ko'ring"
   ]
  },
  {
   "cell_type": "code",
   "execution_count": 12,
   "id": "3deb671a",
   "metadata": {
    "execution": {
     "iopub.execute_input": "2023-08-04T10:43:25.537978Z",
     "iopub.status.busy": "2023-08-04T10:43:25.535800Z",
     "iopub.status.idle": "2023-08-04T10:43:25.543330Z",
     "shell.execute_reply": "2023-08-04T10:43:25.544063Z",
     "shell.execute_reply.started": "2023-08-04T10:36:29.208863Z"
    },
    "papermill": {
     "duration": 0.054041,
     "end_time": "2023-08-04T10:43:25.544260",
     "exception": false,
     "start_time": "2023-08-04T10:43:25.490219",
     "status": "completed"
    },
    "tags": []
   },
   "outputs": [
    {
     "data": {
      "text/plain": [
       "0        2\n",
       "1        2\n",
       "2        3\n",
       "3        3\n",
       "4        4\n",
       "        ..\n",
       "13575    4\n",
       "13576    3\n",
       "13577    3\n",
       "13578    4\n",
       "13579    4\n",
       "Name: Rooms, Length: 13580, dtype: int64"
      ]
     },
     "execution_count": 12,
     "metadata": {},
     "output_type": "execute_result"
    }
   ],
   "source": [
    "#Javobingizni shu yerga yozing\n",
    "df.Rooms.fillna(df.Rooms.mean())"
   ]
  },
  {
   "cell_type": "markdown",
   "id": "932e8f00",
   "metadata": {
    "papermill": {
     "duration": 0.042757,
     "end_time": "2023-08-04T10:43:25.630374",
     "exception": false,
     "start_time": "2023-08-04T10:43:25.587617",
     "status": "completed"
    },
    "tags": []
   },
   "source": [
    "### 6.2 Xonalar va uy turi bo'yicha o'rta qiymatni olib ko'ring."
   ]
  },
  {
   "cell_type": "code",
   "execution_count": 13,
   "id": "91fd4fec",
   "metadata": {
    "execution": {
     "iopub.execute_input": "2023-08-04T10:43:25.794350Z",
     "iopub.status.busy": "2023-08-04T10:43:25.793186Z",
     "iopub.status.idle": "2023-08-04T10:43:25.796670Z",
     "shell.execute_reply": "2023-08-04T10:43:25.797350Z",
     "shell.execute_reply.started": "2021-11-22T11:53:54.916987Z"
    },
    "papermill": {
     "duration": 0.123905,
     "end_time": "2023-08-04T10:43:25.797579",
     "exception": false,
     "start_time": "2023-08-04T10:43:25.673674",
     "status": "completed"
    },
    "tags": []
   },
   "outputs": [],
   "source": [
    "#Javobingizni shu yerga yozing\n"
   ]
  },
  {
   "cell_type": "markdown",
   "id": "2fc95bf1",
   "metadata": {
    "papermill": {
     "duration": 0.046266,
     "end_time": "2023-08-04T10:43:25.895594",
     "exception": false,
     "start_time": "2023-08-04T10:43:25.849328",
     "status": "completed"
    },
    "tags": []
   },
   "source": [
    "### 6.3 Ahamiyat bering, 10 xonalik uylar uchun o'rta qiymat chiqmayapti. Bu nimadan dalolat beradi? Jami 10 xonalik uylar nechta? Ular bilan qanday yo'l tutishni maslahat berasiz?"
   ]
  },
  {
   "cell_type": "code",
   "execution_count": 14,
   "id": "de7f0ece",
   "metadata": {
    "execution": {
     "iopub.execute_input": "2023-08-04T10:43:25.986102Z",
     "iopub.status.busy": "2023-08-04T10:43:25.985337Z",
     "iopub.status.idle": "2023-08-04T10:43:25.988989Z",
     "shell.execute_reply": "2023-08-04T10:43:25.989585Z",
     "shell.execute_reply.started": "2021-11-22T11:55:55.645806Z"
    },
    "papermill": {
     "duration": 0.05106,
     "end_time": "2023-08-04T10:43:25.989783",
     "exception": false,
     "start_time": "2023-08-04T10:43:25.938723",
     "status": "completed"
    },
    "tags": []
   },
   "outputs": [],
   "source": [
    "#Javobingizni shu yerga yozing\n"
   ]
  },
  {
   "cell_type": "markdown",
   "id": "b1eca9a4",
   "metadata": {
    "papermill": {
     "duration": 0.044052,
     "end_time": "2023-08-04T10:43:26.078904",
     "exception": false,
     "start_time": "2023-08-04T10:43:26.034852",
     "status": "completed"
    },
    "tags": []
   },
   "source": [
    "### 6.4 `BuildingArea` ustunidagi mavjud `NaN` qiymatlarni o'zingiz to'g'ri deb bilgan usul bilan to'ldiring."
   ]
  },
  {
   "cell_type": "code",
   "execution_count": 15,
   "id": "b923fc17",
   "metadata": {
    "execution": {
     "iopub.execute_input": "2023-08-04T10:43:26.170289Z",
     "iopub.status.busy": "2023-08-04T10:43:26.169528Z",
     "iopub.status.idle": "2023-08-04T10:43:26.178940Z",
     "shell.execute_reply": "2023-08-04T10:43:26.178150Z",
     "shell.execute_reply.started": "2023-08-04T10:42:37.687356Z"
    },
    "papermill": {
     "duration": 0.057115,
     "end_time": "2023-08-04T10:43:26.179110",
     "exception": false,
     "start_time": "2023-08-04T10:43:26.121995",
     "status": "completed"
    },
    "tags": []
   },
   "outputs": [],
   "source": [
    "df['BuildingArea'].fillna(df.BuildingArea.mean(), inplace=True)\n",
    "df['Car'].fillna(method='ffill', inplace=True)"
   ]
  },
  {
   "cell_type": "markdown",
   "id": "e5344ec6",
   "metadata": {
    "papermill": {
     "duration": 0.045116,
     "end_time": "2023-08-04T10:43:26.268022",
     "exception": false,
     "start_time": "2023-08-04T10:43:26.222906",
     "status": "completed"
    },
    "tags": []
   },
   "source": [
    "### 7-VAZIFA. Yuqoridagi vazifalardan so'ng, bizda faqatgina `CouncilArea` ustunida `NaN` qiymatlar qolishi kerak xolos.\n",
    "**Bu ustundagi `NaN` qiymatlarni avvalgi qatordagi qiymatlar bilan to'ldirib keting. Natijani saqlab qoling**"
   ]
  },
  {
   "cell_type": "code",
   "execution_count": 16,
   "id": "086c7298",
   "metadata": {
    "execution": {
     "iopub.execute_input": "2023-08-04T10:43:26.364105Z",
     "iopub.status.busy": "2023-08-04T10:43:26.363300Z",
     "iopub.status.idle": "2023-08-04T10:43:26.367602Z",
     "shell.execute_reply": "2023-08-04T10:43:26.368215Z",
     "shell.execute_reply.started": "2023-08-04T10:40:21.054427Z"
    },
    "papermill": {
     "duration": 0.056723,
     "end_time": "2023-08-04T10:43:26.368412",
     "exception": false,
     "start_time": "2023-08-04T10:43:26.311689",
     "status": "completed"
    },
    "tags": []
   },
   "outputs": [],
   "source": [
    "df.CouncilArea.fillna(method='ffill', inplace=True)"
   ]
  },
  {
   "cell_type": "markdown",
   "id": "2292a26b",
   "metadata": {
    "papermill": {
     "duration": 0.043523,
     "end_time": "2023-08-04T10:43:26.456359",
     "exception": false,
     "start_time": "2023-08-04T10:43:26.412836",
     "status": "completed"
    },
    "tags": []
   },
   "source": [
    "## YAKUNIY JADVAL\n",
    "Ahamiyat bering, yakuniy jadvalda `NaN` qiymatlar bo'lmasligi kerak."
   ]
  },
  {
   "cell_type": "code",
   "execution_count": 17,
   "id": "1f99b0dc",
   "metadata": {
    "execution": {
     "iopub.execute_input": "2023-08-04T10:43:26.547187Z",
     "iopub.status.busy": "2023-08-04T10:43:26.546401Z",
     "iopub.status.idle": "2023-08-04T10:43:26.568682Z",
     "shell.execute_reply": "2023-08-04T10:43:26.568065Z",
     "shell.execute_reply.started": "2023-08-04T10:42:42.044548Z"
    },
    "papermill": {
     "duration": 0.068865,
     "end_time": "2023-08-04T10:43:26.568853",
     "exception": false,
     "start_time": "2023-08-04T10:43:26.499988",
     "status": "completed"
    },
    "tags": []
   },
   "outputs": [
    {
     "data": {
      "text/plain": [
       "Suburb           0\n",
       "Address          0\n",
       "Rooms            0\n",
       "Type             0\n",
       "Price            0\n",
       "Method           0\n",
       "SellerG          0\n",
       "Date             0\n",
       "Distance         0\n",
       "Postcode         0\n",
       "Bedroom2         0\n",
       "Bathroom         0\n",
       "Car              0\n",
       "Landsize         0\n",
       "BuildingArea     0\n",
       "YearBuilt        0\n",
       "CouncilArea      0\n",
       "Lattitude        0\n",
       "Longtitude       0\n",
       "Regionname       0\n",
       "Propertycount    0\n",
       "dtype: int64"
      ]
     },
     "execution_count": 17,
     "metadata": {},
     "output_type": "execute_result"
    }
   ],
   "source": [
    "df.isnull().sum()"
   ]
  },
  {
   "cell_type": "code",
   "execution_count": null,
   "id": "9822113b",
   "metadata": {
    "papermill": {
     "duration": 0.043877,
     "end_time": "2023-08-04T10:43:26.656854",
     "exception": false,
     "start_time": "2023-08-04T10:43:26.612977",
     "status": "completed"
    },
    "tags": []
   },
   "outputs": [],
   "source": []
  }
 ],
 "metadata": {
  "kernelspec": {
   "display_name": "Python 3",
   "language": "python",
   "name": "python3"
  },
  "language_info": {
   "codemirror_mode": {
    "name": "ipython",
    "version": 3
   },
   "file_extension": ".py",
   "mimetype": "text/x-python",
   "name": "python",
   "nbconvert_exporter": "python",
   "pygments_lexer": "ipython3",
   "version": "3.7.10"
  },
  "papermill": {
   "default_parameters": {},
   "duration": 19.117685,
   "end_time": "2023-08-04T10:43:27.413540",
   "environment_variables": {},
   "exception": null,
   "input_path": "__notebook__.ipynb",
   "output_path": "__notebook__.ipynb",
   "parameters": {},
   "start_time": "2023-08-04T10:43:08.295855",
   "version": "2.3.3"
  }
 },
 "nbformat": 4,
 "nbformat_minor": 5
}
